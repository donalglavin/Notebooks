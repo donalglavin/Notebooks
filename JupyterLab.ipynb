{
 "cells": [
  {
   "cell_type": "markdown",
   "metadata": {
    "id": "ggWgMwFAsuQk"
   },
   "source": [
    "# Jupyter Lab\n",
    "This notebook should internally forward all information from a local instance of Jupyter Lab *(on this google colab instance)* with access to my personal google drive account to a standard tcp server which i can access from the browser exclusively with a password.\n",
    "\n",
    "*Varied implementation off: https://zerowithdot.com/jupyter-lab-colab/*\n",
    "\n",
    "## Methodology.\n",
    "The methodology of implementing this is as follow;\n",
    "1. Setup Jupyter Lab.\n",
    "1. Link into and mount my Google Drive.\n",
    "1. Configure the ssh and port forwarding infrastructure.\n",
    "1. Generate a Jupyter Lab password **IMPORTANT**\n",
    "1. Spin up the new Jupyter Lab instance for processing.\n"
   ]
  },
  {
   "cell_type": "markdown",
   "metadata": {
    "id": "cgSxZNoDOgRm"
   },
   "source": [
    "### Install additional software (where requred)."
   ]
  },
  {
   "cell_type": "markdown",
   "metadata": {
    "id": "7gatXueOt-zb"
   },
   "source": [
    "To be able to run the Jupyter Lab instance on the Google Colab runtime environment we must first install it. After the installation there will be a requirement to restart the runtime for the changes to take affect."
   ]
  },
  {
   "cell_type": "code",
   "execution_count": null,
   "metadata": {
    "id": "u7v-AjPOsoTS"
   },
   "outputs": [],
   "source": [
    "!pip3 install jupyterlab"
   ]
  },
  {
   "cell_type": "markdown",
   "metadata": {
    "id": "FOYOhLQTuuxJ"
   },
   "source": [
    "## Resource Development.\n",
    "There are several system resources/configurations that need to be established before we can initiate the Jupyter Lab instance. The basic layout of this process is;\n",
    "1. Log into Google and authenticate the SDK which will allow us to then mount Google Drive to Colab Machine.\n",
    "1. Set up a SSH key pair for the ssh tunneling the ability to use *https* and ensure adequate security.\n",
    "1. Generate the Jupyter Lab password which will be asked when you enter the virtual machine."
   ]
  },
  {
   "cell_type": "markdown",
   "metadata": {
    "id": "ihNrjUzwEWFx"
   },
   "source": [
    "### Connect to Google Drive\n",
    "Connecting to google drive provides the means of accessing and backing up saved notebooks as well as files within google drive to edit, adjust and save. This offers a **HUGE** advantage for workshow as not only are you able to execute your notebooks on the cloud but they are automatically saved in the cloud (AMAZING!).\n",
    "\n",
    "***disclainer:** What you edit and change on your google drive will be permanent, i.e. if you accidently delete a file it is **gone** (same as a normal computer)... be careful*"
   ]
  },
  {
   "cell_type": "code",
   "execution_count": null,
   "metadata": {
    "id": "oInFQZn3EqmM"
   },
   "outputs": [],
   "source": [
    "from google.colab import drive\n",
    "drive.mount('/content/gdrive')"
   ]
  },
  {
   "cell_type": "markdown",
   "metadata": {
    "id": "kh30z12iE2v9"
   },
   "source": [
    "You can then print the top-level contents of you Google Drive with the line below."
   ]
  },
  {
   "cell_type": "code",
   "execution_count": null,
   "metadata": {},
   "outputs": [],
   "source": [
    "!ls '/content/gdrive/MyDrive/'"
   ]
  },
  {
   "cell_type": "markdown",
   "metadata": {
    "id": "pwFOmA-b96wL"
   },
   "source": [
    "### Configure the SSH Key.\n",
    "This key is important for ensuring we can estable the secure connection and forward the ported connection to the appropriate location. \n",
    "\n",
    "You will be promted to enter the location to save the prompted keys which can be whereever you want you will just need to update this lcoation when adding the ssh identity."
   ]
  },
  {
   "cell_type": "code",
   "execution_count": null,
   "metadata": {
    "id": "iXxmKMak1d8A"
   },
   "outputs": [],
   "source": [
    "# Generate the SSH key.\n",
    "!ssh-keygen -t ed25519 -C \"general@email.com\""
   ]
  },
  {
   "cell_type": "markdown",
   "metadata": {
    "id": "9D5v5L-FDanY"
   },
   "source": [
    "Start the ssh-agent and add the relavent identity to the system. (default ssh id is assumed here but may be different)."
   ]
  },
  {
   "cell_type": "code",
   "execution_count": null,
   "metadata": {
    "id": "I1KXk-uy1lEp"
   },
   "outputs": [],
   "source": [
    "# Start the ssd agent and add the ssh Identify. \n",
    "!eval \"$(ssh-agent ssh-add \"/root/.ssh/id_ed25519\")\""
   ]
  },
  {
   "cell_type": "markdown",
   "metadata": {
    "id": "kuzHdij5O3He"
   },
   "source": [
    "### Generate the Jupyter Lab Password\n",
    "This is an important step as we will not be able to access the Jupyter Lab instance without it."
   ]
  },
  {
   "cell_type": "code",
   "execution_count": null,
   "metadata": {},
   "outputs": [],
   "source": [
    "!jupyter notebook password"
   ]
  },
  {
   "cell_type": "markdown",
   "metadata": {
    "id": "PuQOp6bHCfw_",
    "tags": []
   },
   "source": [
    "The sha1 hash of this password will be added to */root/.jupyter/jupyter_notebook_config.json* and can be displayed below."
   ]
  },
  {
   "cell_type": "code",
   "execution_count": null,
   "metadata": {
    "id": "A_8JIGo3Cc2I"
   },
   "outputs": [],
   "source": [
    "!cat /root/.jupyter/jupyter_notebook_config.json"
   ]
  },
  {
   "cell_type": "markdown",
   "metadata": {
    "id": "I4Y4L6Kjv1xH"
   },
   "source": [
    "## Implement"
   ]
  },
  {
   "cell_type": "markdown",
   "metadata": {
    "id": "hqcA5TUNMM3R"
   },
   "source": [
    "Generate the Jupyter Lab Application."
   ]
  },
  {
   "cell_type": "code",
   "execution_count": null,
   "metadata": {
    "id": "SGUwnE_O2uz-"
   },
   "outputs": [],
   "source": [
    "!jupyter lab '/content/gdrive/MyDrive/' --ip=0.0.0.0 --port=8989 --allow-root & ssh -o StrictHostKeyChecking=no -R 80:localhost:8989 ssh.localhost.run"
   ]
  },
  {
   "cell_type": "markdown",
   "metadata": {
    "id": "-iyoD213Nd4P"
   },
   "source": [
    "Quick help, if help is needed."
   ]
  },
  {
   "cell_type": "code",
   "execution_count": null,
   "metadata": {
    "id": "ltYwAsDjHKVD"
   },
   "outputs": [],
   "source": [
    "!jupyter-lab --help-all"
   ]
  }
 ],
 "metadata": {
  "colab": {
   "authorship_tag": "ABX9TyOqcsVOULkNcakmgkG+UE9V",
   "collapsed_sections": [],
   "name": "JupyterLab.ipynb",
   "provenance": [
    {
     "file_id": "1hxtmPrmjU2I5CQCHwdl3soNKLuDEGCKv",
     "timestamp": 1626957304647
    }
   ]
  },
  "kernelspec": {
   "display_name": "Python 3",
   "language": "python",
   "name": "python3"
  },
  "language_info": {
   "codemirror_mode": {
    "name": "ipython",
    "version": 3
   },
   "file_extension": ".py",
   "mimetype": "text/x-python",
   "name": "python",
   "nbconvert_exporter": "python",
   "pygments_lexer": "ipython3",
   "version": "3.7.11"
  }
 },
 "nbformat": 4,
 "nbformat_minor": 4
}
