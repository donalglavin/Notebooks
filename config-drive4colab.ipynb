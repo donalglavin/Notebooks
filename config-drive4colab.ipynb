{
 "cells": [
  {
   "cell_type": "markdown",
   "source": [
    "# Mapping Locations\n",
    "The purpose of this Notebook is to allow for libraries to be saved on Google Drive with the ability to update and manage these without having to access colab or github.\n",
    "\n",
    "## Why?\n",
    "In the instance Google Drive is restricted this offers the ability to spin up a virtual machine with a *psudo* persistant list of libraries and functionalities. Consequently, saving having to wait for packages and libraries to be reinstalled.\n",
    "\n",
    "## How? \n",
    "By running the two step code below this notebook will: \n",
    "1. Connect to Google Drive and mount it for direct access and,\n",
    "1. Link the location of downloaded python modules and packages to a nomincated location on your Google Drive.\n",
    "\n",
    "The result is the documents that are downloaded will persist in your Google Drive and be repeatedly relinked when required. "
   ],
   "metadata": {}
  },
  {
   "cell_type": "markdown",
   "source": [
    "## Step 1.\n",
    "Authenticating and Logging into Google Drive."
   ],
   "metadata": {}
  },
  {
   "cell_type": "code",
   "execution_count": null,
   "source": [
    "from google.colab import drive\n",
    "drive.mount('/content/gdrive')"
   ],
   "outputs": [],
   "metadata": {}
  },
  {
   "cell_type": "markdown",
   "source": [
    "## Step 2.\n",
    "Linking the the "
   ],
   "metadata": {}
  },
  {
   "cell_type": "code",
   "execution_count": null,
   "source": [
    "import os, sys\n",
    "nb_path = '/content/notebooks'\n",
    "os.symlink('/content/drive/My Drive/Colab Notebooks', nb_path)\n",
    "sys.path.insert(0,nb_path)"
   ],
   "outputs": [],
   "metadata": {}
  },
  {
   "cell_type": "markdown",
   "source": [
    "## Notes:\n",
    "Once the library is installed it can be accessed simply by *import __library__* \n",
    "\n",
    "The code block below is to allow adhoc installations of packages."
   ],
   "metadata": {}
  },
  {
   "cell_type": "code",
   "execution_count": null,
   "source": [
    "!pip install --target=$nb_path "
   ],
   "outputs": [],
   "metadata": {}
  },
  {
   "cell_type": "markdown",
   "source": [
    "# Spinning up Jupyter\n",
    "This section outlines the spinning up of a default Jupyter Environment (accessable) via *https*\n",
    "\n",
    "**Assumptions**\n",
    "1. Jupyterlab is already installed.\n",
    "1. Google Drive is already mounted.\n"
   ],
   "metadata": {}
  },
  {
   "cell_type": "markdown",
   "source": [
    "## Generate the SSH Key.\n",
    "This is necessary to enable *http**s***"
   ],
   "metadata": {}
  },
  {
   "cell_type": "code",
   "execution_count": null,
   "source": [
    "!ssh-keygen -t ed25519 -C \"general@email.com\""
   ],
   "outputs": [],
   "metadata": {}
  },
  {
   "cell_type": "markdown",
   "source": [
    "Start the ssh-agent and add the relavent identity to the system. (default ssh id is assumed here but may be different)."
   ],
   "metadata": {}
  },
  {
   "cell_type": "code",
   "execution_count": null,
   "source": [
    "!eval \"$(ssh-agent ssh-add \"/root/.ssh/id_ed25519\")\""
   ],
   "outputs": [],
   "metadata": {}
  },
  {
   "cell_type": "markdown",
   "source": [
    "## Start the JupyterLab Server.\n"
   ],
   "metadata": {}
  },
  {
   "cell_type": "code",
   "execution_count": null,
   "source": [
    "!jupyter lab '/content/gdrive/MyDrive/' --ip=0.0.0.0 --port=8989 --allow-root & ssh -o StrictHostKeyChecking=no -R 80:localhost:8989 ssh.localhost.run"
   ],
   "outputs": [],
   "metadata": {}
  },
  {
   "cell_type": "markdown",
   "source": [
    "Quick help (if requried)."
   ],
   "metadata": {}
  },
  {
   "cell_type": "code",
   "execution_count": null,
   "source": [
    "!jupyter-lab --help-all"
   ],
   "outputs": [],
   "metadata": {}
  }
 ],
 "metadata": {
  "orig_nbformat": 4,
  "language_info": {
   "name": "plaintext"
  }
 },
 "nbformat": 4,
 "nbformat_minor": 2
}