{
 "cells": [
  {
   "cell_type": "markdown",
   "metadata": {},
   "source": [
    "# Virtual Private Server - On Demend\n",
    "The pupose of this notebook is to allow a remote /ideally/ customisable and persistent environment for executing code whilst not at your personal computer. This is achieved through the use of Googles generous access to Google Colab remote machines and this notebook to generate an SSH-able VPS to access your google drive files and system comfigurations providing easier access to persistent research.\n",
    "\n",
    "## Requirements.\n",
    "The are a few requirements that will need to be developed in order to maximise the effectiveness of this system.\n",
    "1. A Google drive account to access datasets and code.\n",
    "1. An ssh client available on your PC (for those with limited computer access there are SSH clients available via browser extensions).\n",
    "1. Ideally a Nix or Makefile build script located on your drive as this will be required to generate your Personal Computing Environment (PCE).\n",
    "\n",
    "## Implementation."
   ]
  },
  {
   "cell_type": "code",
   "execution_count": null,
   "metadata": {},
   "outputs": [],
   "source": [
    "!pkill -9 tmate\n",
    "!wget -nc https://github.com/tmate-io/tmate/releases/download/2.4.0/tmate-2.4.0-static-linux-i386.tar.xz &> /dev/null\n",
    "!tar --skip-old-files -xvf tmate-2.4.0-static-linux-i386.tar.xz &> /dev/null\n",
    "!rm -f nohup.out; bash -ic 'nohup ./tmate-2.4.0-static-linux-i386/tmate -S /tmp/tmate.sock new-session -d & disown -a' >/dev/null 2>&1\n",
    "!./tmate-2.4.0-static-linux-i386/tmate -S /tmp/tmate.sock wait tmate-ready\n",
    "!./tmate-2.4.0-static-linux-i386/tmate -S /tmp/tmate.sock display -p \"Connect with SSH address: #{tmate_ssh}\"\n",
    "!./tmate-2.4.0-static-linux-i386/tmate -S /tmp/tmate.sock display -p \"Connect with web: #{tmate_web}\"\n",
    "#!ps auxef | cat\n",
    "#!cat nohup.out\n"
   ]
  }
 ],
 "metadata": {
  "language_info": {
   "name": "python"
  },
  "orig_nbformat": 4
 },
 "nbformat": 4,
 "nbformat_minor": 2
}
