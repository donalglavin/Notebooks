{
 "cells": [
  {
   "cell_type": "markdown",
   "metadata": {},
   "source": [
    "# Virtual Private Server - On Demend\n",
    "The pupose of this notebook is to allow a remote /ideally/ customisable and persistent environment for executing code whilst not at your personal computer. This is achieved through the use of Googles generous access to Google Colab remote machines and this notebook to generate an SSH-able VPS to access your google drive files and system comfigurations providing easier access to persistent research.\n",
    "\n",
    "## Requirements.\n",
    "The are a few requirements that will need to be developed in order to maximise the effectiveness of this system.\n",
    "1. A Google drive account to access datasets and code.\n",
    "1. An ssh client available on your PC (for those with limited computer access there are SSH clients available via browser extensions).\n",
    "1. Ideally a Nix or Makefile build script located on your drive as this will be required to generate your Personal Computing Environment (PCE).\n",
    "\n",
    "## The Methodology.\n",
    "1. Access Google Drive. \n",
    "1. Confiure SSH & SSH Keys. (Required for port forwarding as an alternatvie to ngrok).\n",
    "1. Install the SSHD service.\n",
    "1. Configure a root password (to log in with).\n",
    "1. Start the SSHD service.\n",
    "1. Create the SSH port forwarding tunnel.\n",
    "1. Print the access information to the screen.\n",
    "\n",
    "Finally, Copy and paste the access information into your ssh client and you're good to go."
   ]
  },
  {
   "cell_type": "markdown",
   "metadata": {},
   "source": [
    "### Step 1.\n",
    "Mounting google drive to the Google Colab Instance."
   ]
  },
  {
   "cell_type": "code",
   "execution_count": null,
   "metadata": {},
   "outputs": [],
   "source": [
    "from google.colab import drive\n",
    "drive.mount('/content/gdrive')"
   ]
  },
  {
   "cell_type": "markdown",
   "metadata": {},
   "source": [
    "/Optional code to confirm it has mounted correctly/"
   ]
  },
  {
   "cell_type": "code",
   "execution_count": null,
   "metadata": {},
   "outputs": [],
   "source": [
    "!ls '/content/gdrive/MyDrive/'"
   ]
  },
  {
   "cell_type": "markdown",
   "metadata": {},
   "source": [
    "### Step 2.\n",
    "Configuring SSH access and SSH Keys to connect."
   ]
  },
  {
   "cell_type": "code",
   "execution_count": null,
   "metadata": {},
   "outputs": [],
   "source": [
    "# Generate the SSH key.\n",
    "!ssh-keygen -t ed25519 -C \"general@email.com\""
   ]
  },
  {
   "cell_type": "markdown",
   "metadata": {},
   "source": [
    "Start the ssh-agent and add the relavent identity to the system. (default ssh id is assumed here but may be different)."
   ]
  },
  {
   "cell_type": "code",
   "execution_count": null,
   "metadata": {},
   "outputs": [],
   "source": [
    "# Start the ssd agent and add the ssh Identify. \n",
    "!eval \"$(ssh-agent ssh-add \"/root/.ssh/id_ed25519\")\""
   ]
  },
  {
   "cell_type": "markdown",
   "metadata": {},
   "source": [
    "### Step 3. \n",
    "Set up sshd "
   ]
  },
  {
   "cell_type": "code",
   "execution_count": null,
   "metadata": {},
   "outputs": [],
   "source": [
    "! apt-get install -qq -o=Dpkg::Use-Pty=0 openssh-server pwgen > /dev/null"
   ]
  },
  {
   "cell_type": "markdown",
   "metadata": {},
   "source": [
    "### Step 4.\n",
    "Set up a root password."
   ]
  },
  {
   "cell_type": "code",
   "execution_count": null,
   "metadata": {},
   "outputs": [],
   "source": [
    "#Set root password\n",
    "! echo root:$password | chpasswd\n",
    "! mkdir -p /var/run/sshd\n",
    "! echo \"PermitRootLogin yes\" >> /etc/ssh/sshd_config\n",
    "! echo \"PasswordAuthentication yes\" >> /etc/ssh/sshd_config\n",
    "! echo \"LD_LIBRARY_PATH=/usr/lib64-nvidia\" >> /root/.bashrc\n",
    "! echo \"export LD_LIBRARY_PATH\" >> /root/.bashrc"
   ]
  },
  {
   "cell_type": "markdown",
   "metadata": {},
   "source": [
    "#### Step 5.\n",
    "Run sshd."
   ]
  },
  {
   "cell_type": "code",
   "execution_count": null,
   "metadata": {},
   "outputs": [],
   "source": [
    "#Run sshd\n",
    "get_ipython().system_raw('/usr/sbin/sshd -D &')"
   ]
  },
  {
   "cell_type": "code",
   "execution_count": null,
   "metadata": {},
   "outputs": [],
   "source": [
    "#### Step 6.\n",
    "Create the SSH tunnel.\n"
   ]
  },
  {
   "cell_type": "code",
   "execution_count": null,
   "metadata": {},
   "outputs": [],
   "source": [
    "ssh -o StrictHostKeyChecking=no -R 22:localhost ssh.localhost.run"
   ]
  },
  {
   "cell_type": "markdown",
   "metadata": {},
   "source": [
    "#### Step 7.\n",
    "Get access details."
   ]
  },
  {
   "cell_type": "code",
   "execution_count": null,
   "metadata": {},
   "outputs": [],
   "source": [
    "#Get public address and print connect command\n",
    "with urllib.request.urlopen('http://localhost:4040/api/tunnels') as response:\n",
    "  data = json.loads(response.read().decode())\n",
    "  (host, port) = data['tunnels'][0]['public_url'][6:].split(':')\n",
    "  print(f'SSH command: ssh -p{port} root@{host}')\n",
    "\n",
    "#Print root password\n",
    "print(f'Root password: {password}')"
   ]
  }
 ],
 "metadata": {
  "language_info": {
   "name": "plaintext"
  },
  "orig_nbformat": 4
 },
 "nbformat": 4,
 "nbformat_minor": 2
}
